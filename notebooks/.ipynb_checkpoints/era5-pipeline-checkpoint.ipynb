{
 "cells": [
  {
   "cell_type": "code",
   "execution_count": 1,
   "id": "51c80e10-4209-4da9-87d4-7424b39f5db5",
   "metadata": {},
   "outputs": [],
   "source": [
    "import pandas as pd\n",
    "import numpy as np\n",
    "import matplotlib.pyplot as plt\n",
    "\n",
    "# loading sample file\n",
    "era5 = pd.read_csv(\"C:/Users/mirih/OneDrive/Desktop/EDL Port/era5-severe-weather-pipeline/data/sample-era5.csv\")\n"
   ]
  },
  {
   "cell_type": "code",
   "execution_count": 2,
   "id": "966b85a1-2308-4a6c-b25b-b4813883a4e0",
   "metadata": {},
   "outputs": [],
   "source": [
    "df = era5.copy()\n",
    "\n",
    "# creating columns (features) wanting to be kept \n",
    "df[\"CAPE\"] = df[\"cape\"]*1 # keeping as is for now\n",
    "df[\"CIN\"] = df[\"cin\"]*1 # ditto \n",
    "df[\"temp\"] = df[\"temperature\"]-273.15 # Kelvin to Celsius \n",
    "df[\"pressure\"] = df[\"pressure_hpa\"] \n",
    "\n",
    "# calculating how anomalous temperature is via z-score \n",
    "df[\"z_anomaly\"] = (df[\"temp\"].mean()) / df[\"temp\"].std() \n",
    "\n",
    "# mark true if anomaly big enough\n",
    "df[\"is_anomaly\"] = df[\"z_anomaly\"].abs() > 1 # lower value for more events marked anomalous, higher value for less events marked "
   ]
  },
  {
   "cell_type": "code",
   "execution_count": 3,
   "id": "682c5a50-32d7-4a09-9c3c-d24d2700f38a",
   "metadata": {},
   "outputs": [],
   "source": [
    "# saving table w/ new columns \n",
    "df.to_csv(\"C:/Users/mirih/OneDrive/Desktop/EDL Port/era5-severe-weather-pipeline/outputs/features.csv\", index=False)\n",
    "\n",
    "import matplotlib.dates as mdates\n",
    "\n",
    "# make figure larger/higher resolution\n",
    "plt.figure(figsize=(10, 6), dpi=150)\n",
    "\n",
    "# plot temperature over time\n",
    "plt.plot(pd.to_datetime(df[\"date\"]), df[\"temp\"], \n",
    "         label=\"Temperature (°C)\", linewidth=1.5, color=\"steelblue\")\n",
    "\n",
    "# highlight anomalies\n",
    "plt.scatter(pd.to_datetime(df.loc[df[\"is_anomaly\"], \"date\"]), \n",
    "            df.loc[df[\"is_anomaly\"], \"temp\"], \n",
    "            color=\"red\", label=\"Anomaly\", edgecolors='black', s=50)\n",
    "\n",
    "# title/axis labels\n",
    "plt.title(\"Daily Temperature and Detected Anomalies\", fontsize=14, weight='bold')\n",
    "plt.xlabel(\"Date\", fontsize=12)\n",
    "plt.ylabel(\"Temperature (°C)\", fontsize=12)\n",
    "\n",
    "# improve date formatting\n",
    "plt.gca().xaxis.set_major_formatter(mdates.DateFormatter('%b %d'))\n",
    "plt.gca().xaxis.set_major_locator(mdates.AutoDateLocator(maxticks=10))\n",
    "plt.xticks(rotation=45, ha='right')\n",
    "\n",
    "# grid for readability\n",
    "plt.grid(True, linestyle='--', alpha=0.5)\n",
    "\n",
    "# legend\n",
    "plt.legend()\n",
    "\n",
    "# tight layout for better spacing\n",
    "plt.tight_layout()\n",
    "\n",
    "# save as PNG\n",
    "plt.savefig(\"C:/Users/mirih/OneDrive/Desktop/EDL Port/era5-severe-weather-pipeline/outputs/fig-anomalies.png\", dpi=150)\n",
    "plt.close()"
   ]
  },
  {
   "cell_type": "code",
   "execution_count": 4,
   "id": "ca8dfd24-e218-4280-a5b4-56214378175b",
   "metadata": {},
   "outputs": [
    {
     "name": "stdout",
     "output_type": "stream",
     "text": [
      "===AUTO MEMO===\n",
      "Date range: 2025-01-01 to 2025-04-01, Rows used: 91\n",
      "25.3% of days had CAPE > 1500 J/kg\n",
      "High-CAPE days clustering in late spring; consider commuter outreach windows.\n"
     ]
    }
   ],
   "source": [
    "# AUTO MEMO SUMMARY\n",
    "date_range = f\"{df['date'].min()} to {df['date'].max()}\"\n",
    "pct_high_cape = (df[\"CAPE\"] > 1500).mean() * 100\n",
    "\n",
    "print(\"===AUTO MEMO===\")\n",
    "print(f\"Date range: {date_range}, Rows used: {len(df)}\")\n",
    "print(f\"{pct_high_cape:.1f}% of days had CAPE > 1500 J/kg\")\n",
    "print(\"High-CAPE days clustering in late spring; consider commuter outreach windows.\")\n"
   ]
  },
  {
   "cell_type": "code",
   "execution_count": null,
   "id": "9aedde6a-206d-4c48-bd15-c8298c0ca81f",
   "metadata": {},
   "outputs": [],
   "source": []
  },
  {
   "cell_type": "code",
   "execution_count": null,
   "id": "1851d18d-036c-4087-8817-77d2ae1351f3",
   "metadata": {},
   "outputs": [],
   "source": []
  }
 ],
 "metadata": {
  "kernelspec": {
   "display_name": "Python 3 (base)",
   "language": "python",
   "name": "base"
  },
  "language_info": {
   "codemirror_mode": {
    "name": "ipython",
    "version": 3
   },
   "file_extension": ".py",
   "mimetype": "text/x-python",
   "name": "python",
   "nbconvert_exporter": "python",
   "pygments_lexer": "ipython3",
   "version": "3.12.7"
  }
 },
 "nbformat": 4,
 "nbformat_minor": 5
}
